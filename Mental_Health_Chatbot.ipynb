{
 "cells": [
  {
   "cell_type": "code",
   "execution_count": 1,
   "id": "22ae91b4-5d7e-47ff-85db-bfc0d451274d",
   "metadata": {},
   "outputs": [
    {
     "name": "stdout",
     "output_type": "stream",
     "text": [
      "🧠 Mental Health Support Chatbot\n",
      "Type 'exit' to quit.\n",
      "\n"
     ]
    },
    {
     "name": "stdin",
     "output_type": "stream",
     "text": [
      "You:  sad\n"
     ]
    },
    {
     "name": "stdout",
     "output_type": "stream",
     "text": [
      "Bot: I'm sorry you're feeling sad. You're not alone.\n"
     ]
    },
    {
     "name": "stdin",
     "output_type": "stream",
     "text": [
      "You:  exit\n"
     ]
    },
    {
     "name": "stdout",
     "output_type": "stream",
     "text": [
      "Bot: I'm glad you talked to me. Take care of yourself 💙\n"
     ]
    }
   ],
   "source": [
    "#  Mental Health Support Bot (100% Offline)\n",
    "\n",
    "# A dictionary with keywords and supportive replies\n",
    "responses = {\n",
    "    \"sad\": \"I'm sorry you're feeling sad. You're not alone.\",\n",
    "    \"anxious\": \"It's okay to feel anxious. Try to take deep breaths.\",\n",
    "    \"stressed\": \"Stress can be tough. Remember to take breaks.\",\n",
    "    \"tired\": \"Being tired is a sign to rest. Please take care of yourself.\",\n",
    "    \"angry\": \"It's okay to feel angry. Talking can help release it.\",\n",
    "    \"lonely\": \"You're not alone. I'm here with you.\",\n",
    "    \"hopeless\": \"You matter, even if it doesn’t feel like it now. Please reach out to someone you trust.\"\n",
    "}\n",
    "\n",
    "# Start chat\n",
    "print(\"🧠 Mental Health Support Chatbot\\nType 'exit' to quit.\\n\")\n",
    "\n",
    "while True:\n",
    "    user_input = input(\"You: \").lower()\n",
    "    \n",
    "    if user_input == \"exit\":\n",
    "        print(\"Bot: I'm glad you talked to me. Take care of yourself 💙\")\n",
    "        break\n",
    "\n",
    "    matched = False\n",
    "    for keyword in responses:\n",
    "        if keyword in user_input:\n",
    "            print(\"Bot:\", responses[keyword])\n",
    "            matched = True\n",
    "            break\n",
    "\n",
    "    if not matched:\n",
    "        print(\"Bot: I'm here to listen. Feel free to share more.\")\n"
   ]
  },
  {
   "cell_type": "code",
   "execution_count": null,
   "id": "982b0e4b-2f4a-45f0-93d4-8bba3f147a70",
   "metadata": {},
   "outputs": [],
   "source": []
  }
 ],
 "metadata": {
  "kernelspec": {
   "display_name": "Python [conda env:base] *",
   "language": "python",
   "name": "conda-base-py"
  },
  "language_info": {
   "codemirror_mode": {
    "name": "ipython",
    "version": 3
   },
   "file_extension": ".py",
   "mimetype": "text/x-python",
   "name": "python",
   "nbconvert_exporter": "python",
   "pygments_lexer": "ipython3",
   "version": "3.13.5"
  }
 },
 "nbformat": 4,
 "nbformat_minor": 5
}
